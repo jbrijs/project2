{
 "cells": [
  {
   "cell_type": "markdown",
   "metadata": {},
   "source": [
    "# Preprocessing Data with Technical Analysis Indicators"
   ]
  },
  {
   "cell_type": "markdown",
   "metadata": {},
   "source": [
    "It is necessary to view the data so that I can handle NULL values and scale correctly"
   ]
  },
  {
   "cell_type": "code",
   "execution_count": 2,
   "metadata": {},
   "outputs": [
    {
     "name": "stdout",
     "output_type": "stream",
     "text": [
      "<class 'pandas.core.frame.DataFrame'>\n",
      "RangeIndex: 6314 entries, 0 to 6313\n",
      "Columns: 224 entries, time_stamp to ZS_30\n",
      "dtypes: float64(202), int64(21), object(1)\n",
      "memory usage: 10.8+ MB\n"
     ]
    }
   ],
   "source": [
    "import pandas as pd\n",
    "import matplotlib.pyplot as plt\n",
    "import numpy as np\n",
    "\n",
    "df = pd.read_csv('./data/AAPL_technical_indicators.csv')\n",
    "\n",
    "df.info()"
   ]
  },
  {
   "cell_type": "code",
   "execution_count": 3,
   "metadata": {},
   "outputs": [
    {
     "data": {
      "text/html": [
       "<div>\n",
       "<style scoped>\n",
       "    .dataframe tbody tr th:only-of-type {\n",
       "        vertical-align: middle;\n",
       "    }\n",
       "\n",
       "    .dataframe tbody tr th {\n",
       "        vertical-align: top;\n",
       "    }\n",
       "\n",
       "    .dataframe thead th {\n",
       "        text-align: right;\n",
       "    }\n",
       "</style>\n",
       "<table border=\"1\" class=\"dataframe\">\n",
       "  <thead>\n",
       "    <tr style=\"text-align: right;\">\n",
       "      <th></th>\n",
       "      <th>time_stamp</th>\n",
       "      <th>open</th>\n",
       "      <th>high</th>\n",
       "      <th>low</th>\n",
       "      <th>close</th>\n",
       "      <th>volume</th>\n",
       "      <th>ABER_ZG_5_15</th>\n",
       "      <th>ABER_SG_5_15</th>\n",
       "      <th>ABER_XG_5_15</th>\n",
       "      <th>ABER_ATR_5_15</th>\n",
       "      <th>...</th>\n",
       "      <th>VIDYA_14</th>\n",
       "      <th>VTXP_14</th>\n",
       "      <th>VTXM_14</th>\n",
       "      <th>VWAP_D</th>\n",
       "      <th>VWMA_10</th>\n",
       "      <th>WCP</th>\n",
       "      <th>WILLR_14</th>\n",
       "      <th>WMA_10</th>\n",
       "      <th>ZL_EMA_10</th>\n",
       "      <th>ZS_30</th>\n",
       "    </tr>\n",
       "  </thead>\n",
       "  <tbody>\n",
       "    <tr>\n",
       "      <th>0</th>\n",
       "      <td>1999-11-01</td>\n",
       "      <td>0.714286</td>\n",
       "      <td>0.720446</td>\n",
       "      <td>0.690804</td>\n",
       "      <td>0.693036</td>\n",
       "      <td>2487300</td>\n",
       "      <td>NaN</td>\n",
       "      <td>NaN</td>\n",
       "      <td>NaN</td>\n",
       "      <td>NaN</td>\n",
       "      <td>...</td>\n",
       "      <td>NaN</td>\n",
       "      <td>NaN</td>\n",
       "      <td>NaN</td>\n",
       "      <td>0.701429</td>\n",
       "      <td>NaN</td>\n",
       "      <td>0.699330</td>\n",
       "      <td>NaN</td>\n",
       "      <td>NaN</td>\n",
       "      <td>NaN</td>\n",
       "      <td>NaN</td>\n",
       "    </tr>\n",
       "    <tr>\n",
       "      <th>1</th>\n",
       "      <td>1999-11-02</td>\n",
       "      <td>0.696429</td>\n",
       "      <td>0.729375</td>\n",
       "      <td>0.690268</td>\n",
       "      <td>0.716518</td>\n",
       "      <td>3564600</td>\n",
       "      <td>NaN</td>\n",
       "      <td>NaN</td>\n",
       "      <td>NaN</td>\n",
       "      <td>NaN</td>\n",
       "      <td>...</td>\n",
       "      <td>NaN</td>\n",
       "      <td>NaN</td>\n",
       "      <td>NaN</td>\n",
       "      <td>0.712054</td>\n",
       "      <td>NaN</td>\n",
       "      <td>0.713170</td>\n",
       "      <td>NaN</td>\n",
       "      <td>NaN</td>\n",
       "      <td>NaN</td>\n",
       "      <td>NaN</td>\n",
       "    </tr>\n",
       "    <tr>\n",
       "      <th>2</th>\n",
       "      <td>1999-11-03</td>\n",
       "      <td>0.728750</td>\n",
       "      <td>0.743304</td>\n",
       "      <td>0.723214</td>\n",
       "      <td>0.727679</td>\n",
       "      <td>2932700</td>\n",
       "      <td>NaN</td>\n",
       "      <td>NaN</td>\n",
       "      <td>NaN</td>\n",
       "      <td>NaN</td>\n",
       "      <td>...</td>\n",
       "      <td>NaN</td>\n",
       "      <td>NaN</td>\n",
       "      <td>NaN</td>\n",
       "      <td>0.731399</td>\n",
       "      <td>NaN</td>\n",
       "      <td>0.730469</td>\n",
       "      <td>NaN</td>\n",
       "      <td>NaN</td>\n",
       "      <td>NaN</td>\n",
       "      <td>NaN</td>\n",
       "    </tr>\n",
       "    <tr>\n",
       "      <th>3</th>\n",
       "      <td>1999-11-04</td>\n",
       "      <td>0.732679</td>\n",
       "      <td>0.762232</td>\n",
       "      <td>0.719821</td>\n",
       "      <td>0.746607</td>\n",
       "      <td>3384700</td>\n",
       "      <td>NaN</td>\n",
       "      <td>NaN</td>\n",
       "      <td>NaN</td>\n",
       "      <td>NaN</td>\n",
       "      <td>...</td>\n",
       "      <td>NaN</td>\n",
       "      <td>NaN</td>\n",
       "      <td>NaN</td>\n",
       "      <td>0.742887</td>\n",
       "      <td>NaN</td>\n",
       "      <td>0.743817</td>\n",
       "      <td>NaN</td>\n",
       "      <td>NaN</td>\n",
       "      <td>NaN</td>\n",
       "      <td>NaN</td>\n",
       "    </tr>\n",
       "    <tr>\n",
       "      <th>4</th>\n",
       "      <td>1999-11-05</td>\n",
       "      <td>0.755536</td>\n",
       "      <td>0.789018</td>\n",
       "      <td>0.750000</td>\n",
       "      <td>0.788482</td>\n",
       "      <td>3721500</td>\n",
       "      <td>0.73272</td>\n",
       "      <td>NaN</td>\n",
       "      <td>NaN</td>\n",
       "      <td>NaN</td>\n",
       "      <td>...</td>\n",
       "      <td>NaN</td>\n",
       "      <td>NaN</td>\n",
       "      <td>NaN</td>\n",
       "      <td>0.775833</td>\n",
       "      <td>NaN</td>\n",
       "      <td>0.778996</td>\n",
       "      <td>NaN</td>\n",
       "      <td>NaN</td>\n",
       "      <td>NaN</td>\n",
       "      <td>NaN</td>\n",
       "    </tr>\n",
       "  </tbody>\n",
       "</table>\n",
       "<p>5 rows × 224 columns</p>\n",
       "</div>"
      ],
      "text/plain": [
       "   time_stamp      open      high       low     close   volume  ABER_ZG_5_15  \\\n",
       "0  1999-11-01  0.714286  0.720446  0.690804  0.693036  2487300           NaN   \n",
       "1  1999-11-02  0.696429  0.729375  0.690268  0.716518  3564600           NaN   \n",
       "2  1999-11-03  0.728750  0.743304  0.723214  0.727679  2932700           NaN   \n",
       "3  1999-11-04  0.732679  0.762232  0.719821  0.746607  3384700           NaN   \n",
       "4  1999-11-05  0.755536  0.789018  0.750000  0.788482  3721500       0.73272   \n",
       "\n",
       "   ABER_SG_5_15  ABER_XG_5_15  ABER_ATR_5_15  ...  VIDYA_14  VTXP_14  VTXM_14  \\\n",
       "0           NaN           NaN            NaN  ...       NaN      NaN      NaN   \n",
       "1           NaN           NaN            NaN  ...       NaN      NaN      NaN   \n",
       "2           NaN           NaN            NaN  ...       NaN      NaN      NaN   \n",
       "3           NaN           NaN            NaN  ...       NaN      NaN      NaN   \n",
       "4           NaN           NaN            NaN  ...       NaN      NaN      NaN   \n",
       "\n",
       "     VWAP_D  VWMA_10       WCP  WILLR_14  WMA_10  ZL_EMA_10  ZS_30  \n",
       "0  0.701429      NaN  0.699330       NaN     NaN        NaN    NaN  \n",
       "1  0.712054      NaN  0.713170       NaN     NaN        NaN    NaN  \n",
       "2  0.731399      NaN  0.730469       NaN     NaN        NaN    NaN  \n",
       "3  0.742887      NaN  0.743817       NaN     NaN        NaN    NaN  \n",
       "4  0.775833      NaN  0.778996       NaN     NaN        NaN    NaN  \n",
       "\n",
       "[5 rows x 224 columns]"
      ]
     },
     "execution_count": 3,
     "metadata": {},
     "output_type": "execute_result"
    }
   ],
   "source": [
    "df.head()"
   ]
  },
  {
   "cell_type": "code",
   "execution_count": 4,
   "metadata": {},
   "outputs": [
    {
     "data": {
      "text/plain": [
       "(6314, 224)"
      ]
     },
     "execution_count": 4,
     "metadata": {},
     "output_type": "execute_result"
    }
   ],
   "source": [
    "df.shape"
   ]
  },
  {
   "cell_type": "code",
   "execution_count": 5,
   "metadata": {},
   "outputs": [
    {
     "name": "stdout",
     "output_type": "stream",
     "text": [
      "      time_stamp   open   high    low  close  volume  ABER_ZG_5_15  \\\n",
      "0          False  False  False  False  False   False          True   \n",
      "1          False  False  False  False  False   False          True   \n",
      "2          False  False  False  False  False   False          True   \n",
      "3          False  False  False  False  False   False          True   \n",
      "4          False  False  False  False  False   False         False   \n",
      "...          ...    ...    ...    ...    ...     ...           ...   \n",
      "6309       False  False  False  False  False   False         False   \n",
      "6310       False  False  False  False  False   False         False   \n",
      "6311       False  False  False  False  False   False         False   \n",
      "6312       False  False  False  False  False   False         False   \n",
      "6313       False  False  False  False  False   False         False   \n",
      "\n",
      "      ABER_SG_5_15  ABER_XG_5_15  ABER_ATR_5_15  ...  VIDYA_14  VTXP_14  \\\n",
      "0             True          True           True  ...      True     True   \n",
      "1             True          True           True  ...      True     True   \n",
      "2             True          True           True  ...      True     True   \n",
      "3             True          True           True  ...      True     True   \n",
      "4             True          True           True  ...      True     True   \n",
      "...            ...           ...            ...  ...       ...      ...   \n",
      "6309         False         False          False  ...     False    False   \n",
      "6310         False         False          False  ...     False    False   \n",
      "6311         False         False          False  ...     False    False   \n",
      "6312         False         False          False  ...     False    False   \n",
      "6313         False         False          False  ...     False    False   \n",
      "\n",
      "      VTXM_14  VWAP_D  VWMA_10    WCP  WILLR_14  WMA_10  ZL_EMA_10  ZS_30  \n",
      "0        True   False     True  False      True    True       True   True  \n",
      "1        True   False     True  False      True    True       True   True  \n",
      "2        True   False     True  False      True    True       True   True  \n",
      "3        True   False     True  False      True    True       True   True  \n",
      "4        True   False     True  False      True    True       True   True  \n",
      "...       ...     ...      ...    ...       ...     ...        ...    ...  \n",
      "6309    False   False    False  False     False   False      False  False  \n",
      "6310    False   False    False  False     False   False      False  False  \n",
      "6311    False   False    False  False     False   False      False  False  \n",
      "6312    False   False    False  False     False   False      False  False  \n",
      "6313    False   False    False  False     False   False      False  False  \n",
      "\n",
      "[6314 rows x 224 columns]\n"
     ]
    }
   ],
   "source": [
    "# Find null columns\n",
    "\n",
    "null_columns = df.isna()\n",
    "\n",
    "print(null_columns)"
   ]
  },
  {
   "cell_type": "code",
   "execution_count": 6,
   "metadata": {},
   "outputs": [
    {
     "name": "stdout",
     "output_type": "stream",
     "text": [
      "<class 'pandas.core.frame.DataFrame'>\n",
      "Int64Index: 0 entries\n",
      "Columns: 224 entries, time_stamp to ZS_30\n",
      "dtypes: float64(202), int64(21), object(1)\n",
      "memory usage: 0.0+ bytes\n"
     ]
    }
   ],
   "source": [
    "drop_nulls = df.dropna(inplace=False)\n",
    "\n",
    "drop_nulls.info()"
   ]
  },
  {
   "cell_type": "markdown",
   "metadata": {},
   "source": [
    "With the new technical indicators, every row now has a null value. Since there are 224 features, I have two options: impute null values with another value, or remove features with lots of null values. Since my dataset is not very large, I would like all the features I can get. "
   ]
  },
  {
   "cell_type": "markdown",
   "metadata": {},
   "source": [
    "# Imputation"
   ]
  },
  {
   "cell_type": "code",
   "execution_count": 7,
   "metadata": {},
   "outputs": [
    {
     "name": "stdout",
     "output_type": "stream",
     "text": [
      "time_stamp     0\n",
      "open           0\n",
      "high           0\n",
      "low            0\n",
      "close          0\n",
      "              ..\n",
      "WCP            0\n",
      "WILLR_14      13\n",
      "WMA_10         9\n",
      "ZL_EMA_10      9\n",
      "ZS_30         29\n",
      "Length: 224, dtype: int64\n"
     ]
    }
   ],
   "source": [
    "# Time series interpolation method\n",
    "df.set_index(pd.DatetimeIndex(df[\"time_stamp\"]), inplace=True)\n",
    "\n",
    "for column in df.columns:\n",
    "    df[f'{column}'] = df[f'{column}'].interpolate(method='time')\n",
    "\n",
    "print(df.isna().sum())"
   ]
  },
  {
   "cell_type": "code",
   "execution_count": 8,
   "metadata": {},
   "outputs": [
    {
     "name": "stdout",
     "output_type": "stream",
     "text": [
      "time_stamp    0\n",
      "open          0\n",
      "high          0\n",
      "low           0\n",
      "close         0\n",
      "             ..\n",
      "WCP           0\n",
      "WILLR_14      0\n",
      "WMA_10        0\n",
      "ZL_EMA_10     0\n",
      "ZS_30         0\n",
      "Length: 224, dtype: int64\n",
      "Total missing values: 0\n"
     ]
    }
   ],
   "source": [
    "# Use backfill for edge cases\n",
    "\n",
    "df = df.ffill().bfill()\n",
    "\n",
    "print(df.isna().sum())\n",
    "\n",
    "print(f\"Total missing values: {df.isna().sum().sum()}\")"
   ]
  },
  {
   "cell_type": "markdown",
   "metadata": {},
   "source": [
    "### Okay the data should be good to go! Lets save it and use it in our `ta_model.py` script"
   ]
  },
  {
   "cell_type": "code",
   "execution_count": 9,
   "metadata": {},
   "outputs": [],
   "source": [
    "df.to_csv(f'./data/AAPL_preprocessed_data.csv', index=False)\n"
   ]
  }
 ],
 "metadata": {
  "kernelspec": {
   "display_name": "base",
   "language": "python",
   "name": "python3"
  },
  "language_info": {
   "codemirror_mode": {
    "name": "ipython",
    "version": 3
   },
   "file_extension": ".py",
   "mimetype": "text/x-python",
   "name": "python",
   "nbconvert_exporter": "python",
   "pygments_lexer": "ipython3",
   "version": "3.11.0"
  }
 },
 "nbformat": 4,
 "nbformat_minor": 2
}
